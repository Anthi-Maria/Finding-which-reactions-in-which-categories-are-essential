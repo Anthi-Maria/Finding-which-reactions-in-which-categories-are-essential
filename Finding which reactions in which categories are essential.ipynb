{
 "cells": [
  {
   "cell_type": "code",
   "execution_count": 1,
   "id": "moderate-insider",
   "metadata": {},
   "outputs": [
    {
     "name": "stdout",
     "output_type": "stream",
     "text": [
      "Academic license - for non-commercial use only - expires 2023-02-21\n",
      "Using license file /home/schwartzlab/gurobi.lic\n"
     ]
    }
   ],
   "source": [
    "import numpy as np\n",
    "import pandas as pd\n",
    "import cobra.test\n",
    "import os\n",
    "\n",
    "from os.path import join\n",
    "\n",
    "from time import time\n",
    "\n",
    "\n",
    "from cobra.flux_analysis import (\n",
    "    single_gene_deletion, single_reaction_deletion, double_gene_deletion,\n",
    "    double_reaction_deletion)\n",
    "\n",
    "a = cobra.io.read_sbml_model(\"iEC1344_C.xml\")"
   ]
  },
  {
   "cell_type": "code",
   "execution_count": 16,
   "id": "imposed-george",
   "metadata": {},
   "outputs": [],
   "source": [
    "i= 0\n",
    "r = a.reactions[0]\n",
    "saturated_essential= list()\n",
    "flat_essential= list()\n",
    "one_essential= list()\n",
    "Ushaped_essential= list()\n",
    "increasingANDstable_essential= list()\n",
    "increasing_only_essential= list()\n",
    "decreasingANDstable_essential= list()\n",
    "decreasing_only_essential= list()\n",
    "increasingANDdecreasingANDstable_essential= list()\n",
    "increasingANDdecreasing_only_essential= list()\n",
    "\n",
    "\n",
    "for r in a.reactions:\n",
    "    \n",
    "    l= list()\n",
    "    n=0\n",
    "    n2=0\n",
    "    count=0\n",
    "    r = a.reactions[i]\n",
    "    r_id = r.id\n",
    "    csvFile = pd.read_csv('biomass_per_flux_for_reaction_{}.csv'.format(r_id))\n",
    "    \n",
    "    saturated = pd.read_csv('diff_saturated.csv')\n",
    "    flat = pd.read_csv('flat.csv')\n",
    "    one= pd.read_csv('one feasible value reactions.csv')\n",
    "    Ushaped = pd.read_csv('Ushaped_reactions.csv')\n",
    "    increasingANDstable = pd.read_csv('monotonically increasing and stable reactions.csv')\n",
    "    increasing_only = pd.read_csv('monotonically increasing only reactions.csv')\n",
    "    decreasingANDstable = pd.read_csv('monotonically decreasing and stable reactions.csv')\n",
    "    decreasing_only = pd.read_csv('monotonically decreasing only reactions.csv')\n",
    "    increasingANDdecreasingANDstable = pd.read_csv('monotonically increasing and stable reactions.csv')\n",
    "    increasingANDdecreasing_only = pd.read_csv('monotonically increasing only reactions.csv')\n",
    "    \n",
    "    if a.reactions.get_by_id(r_id) in saturated and csvFile['Biomass'][100] == 0:\n",
    "        saturated_essential.append(r_id)\n",
    "    if a.reactions.get_by_id(r_id) in flat and csvFile['Biomass'][100] == 0:\n",
    "        flat_essential.append(r_id)\n",
    "    if a.reactions.get_by_id(r_id) in one and csvFile['Biomass'][100] == 0:\n",
    "        one_essential.append(r_id)\n",
    "    if a.reactions.get_by_id(r_id) in Ushaped and csvFile['Biomass'][100] == 0:\n",
    "        Ushaped_essential.append(r_id)\n",
    "    if a.reactions.get_by_id(r_id) in increasingANDstable and csvFile['Biomass'][100] == 0:\n",
    "        increasingANDstable_essential.append(r_id)\n",
    "    if a.reactions.get_by_id(r_id) in increasing_only and csvFile['Biomass'][100] == 0:\n",
    "        increasing_only_essential.append(r_id)\n",
    "    if a.reactions.get_by_id(r_id) in decreasingANDstable and csvFile['Biomass'][100] == 0:\n",
    "        decreasingANDstable_essential.append(r_id)\n",
    "    if a.reactions.get_by_id(r_id) in decreasing_only and csvFile['Biomass'][100] == 0:\n",
    "        decreasing_only_essential.append(r_id)\n",
    "    if a.reactions.get_by_id(r_id) in increasingANDdecreasingANDstable and csvFile['Biomass'][100] == 0:\n",
    "        increasingANDdecreasingANDstable_essential.append(r_id)\n",
    "    if a.reactions.get_by_id(r_id) in increasingANDdecreasing_only and csvFile['Biomass'][100] == 0:\n",
    "        increasingANDdecreasing_only_essential.append(r_id)\n",
    "        \n",
    "    i= i+1\n"
   ]
  },
  {
   "cell_type": "code",
   "execution_count": 7,
   "id": "invalid-holly",
   "metadata": {},
   "outputs": [
    {
     "data": {
      "text/plain": [
       "0.9823963461343028"
      ]
     },
     "execution_count": 7,
     "metadata": {},
     "output_type": "execute_result"
    }
   ],
   "source": [
    "csvFile = pd.read_csv('biomass_per_flux_for_reaction_ALAALAD.csv')\n",
    "csvFile['Biomass'][100]"
   ]
  },
  {
   "cell_type": "code",
   "execution_count": 21,
   "id": "reserved-unemployment",
   "metadata": {},
   "outputs": [
    {
     "data": {
      "text/plain": [
       "[]"
      ]
     },
     "execution_count": 21,
     "metadata": {},
     "output_type": "execute_result"
    }
   ],
   "source": [
    "a.reactions.get_by_id(\"EX_cobalt2_e\") in one\n",
    "\n",
    "if a.reactions.get_by_id(\"EX_cobalt2_e\") in one and csvFile['Biomass'][100] == 0:\n",
    "    one_essential.append(\"EX_cobalt2_e\")\n",
    "\n",
    "one_essential"
   ]
  },
  {
   "cell_type": "code",
   "execution_count": 38,
   "id": "varied-victoria",
   "metadata": {},
   "outputs": [
    {
     "data": {
      "text/plain": [
       "False"
      ]
     },
     "execution_count": 38,
     "metadata": {},
     "output_type": "execute_result"
    }
   ],
   "source": [
    "r_id= \"EX_cm_e\"\n",
    "r_id in one.iloc[:, 1]"
   ]
  },
  {
   "cell_type": "code",
   "execution_count": 33,
   "id": "silent-integration",
   "metadata": {},
   "outputs": [
    {
     "data": {
      "text/plain": [
       "0            EX_cm_e\n",
       "1       EX_cobalt2_e\n",
       "2        EX_colipa_e\n",
       "3       EX_colipap_e\n",
       "4           EX_crn_e\n",
       "            ...     \n",
       "1110           AMID3\n",
       "1111            SUCP\n",
       "1112         LTARTDH\n",
       "1113          UAG4Ei\n",
       "1114         UGCIAMH\n",
       "Name: 1 feasible value, Length: 1115, dtype: object"
      ]
     },
     "execution_count": 33,
     "metadata": {},
     "output_type": "execute_result"
    }
   ],
   "source": [
    "a.reactions.get_by_id(\"EX_cm_e\") in one.iloc[:, 1]"
   ]
  },
  {
   "cell_type": "code",
   "execution_count": 44,
   "id": "electric-genealogy",
   "metadata": {},
   "outputs": [
    {
     "data": {
      "text/plain": [
       "False"
      ]
     },
     "execution_count": 44,
     "metadata": {},
     "output_type": "execute_result"
    }
   ],
   "source": [
    "a.reactions.get_by_id(\"EX_cm_e\") in one['1 feasible value']"
   ]
  },
  {
   "cell_type": "code",
   "execution_count": null,
   "id": "heated-barcelona",
   "metadata": {},
   "outputs": [],
   "source": []
  }
 ],
 "metadata": {
  "kernelspec": {
   "display_name": "Python 3",
   "language": "python",
   "name": "python3"
  },
  "language_info": {
   "codemirror_mode": {
    "name": "ipython",
    "version": 3
   },
   "file_extension": ".py",
   "mimetype": "text/x-python",
   "name": "python",
   "nbconvert_exporter": "python",
   "pygments_lexer": "ipython3",
   "version": "3.8.3"
  }
 },
 "nbformat": 4,
 "nbformat_minor": 5
}
